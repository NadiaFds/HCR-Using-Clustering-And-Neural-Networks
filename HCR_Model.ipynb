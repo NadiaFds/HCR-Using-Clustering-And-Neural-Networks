{
  "cells": [
    {
      "cell_type": "code",
      "execution_count": null,
      "id": "a24a84dc",
      "metadata": {
        "scrolled": true,
        "id": "a24a84dc",
        "outputId": "0ee2dee3-c434-4cb5-a824-bd01431ab59a"
      },
      "outputs": [
        {
          "name": "stdout",
          "output_type": "stream",
          "text": [
            "Requirement already satisfied: imutils in c:\\users\\owner\\anaconda3\\lib\\site-packages (0.5.4)\n"
          ]
        }
      ],
      "source": [
        "!pip install imutils"
      ]
    },
    {
      "cell_type": "code",
      "execution_count": null,
      "id": "b9ecabb3",
      "metadata": {
        "id": "b9ecabb3"
      },
      "outputs": [],
      "source": [
        "import numpy as np\n",
        "from numpy import asarray\n",
        "import pandas as pd\n",
        "from keras.preprocessing.image import ImageDataGenerator\n",
        "import os\n",
        "import random \n",
        "import cv2\n",
        "import imutils\n",
        "import random\n",
        "import matplotlib.pyplot as plt\n",
        "import seaborn as sns\n",
        "from sklearn.preprocessing import LabelBinarizer\n",
        "from keras.utils import np_utils\n",
        "from keras.models import Sequential\n",
        "from keras import optimizers\n",
        "from sklearn.preprocessing import LabelBinarizer\n",
        "from keras import backend as K\n",
        "from keras.layers import Dense, Activation, Flatten, Dense,MaxPooling2D, Dropout\n",
        "from keras.layers import Conv2D, MaxPooling2D, BatchNormalization"
      ]
    },
    {
      "cell_type": "markdown",
      "id": "e9a16a82",
      "metadata": {
        "id": "e9a16a82"
      },
      "source": [
        "# Calling K-Means Clustering Algorithm"
      ]
    },
    {
      "cell_type": "code",
      "execution_count": null,
      "id": "79881965",
      "metadata": {
        "id": "79881965",
        "outputId": "abb755c7-79c3-4b62-c772-08ed5a4585fd"
      },
      "outputs": [
        {
          "name": "stdout",
          "output_type": "stream",
          "text": [
            "Requirement already satisfied: opencv-python in c:\\users\\owner\\anaconda3\\lib\\site-packages (4.5.5.64)\n",
            "Requirement already satisfied: numpy in c:\\users\\owner\\anaconda3\\lib\\site-packages (1.20.3)\n",
            "Requirement already satisfied: matplotlib in c:\\users\\owner\\anaconda3\\lib\\site-packages (3.4.3)\n",
            "Requirement already satisfied: pyparsing>=2.2.1 in c:\\users\\owner\\anaconda3\\lib\\site-packages (from matplotlib) (3.0.4)\n",
            "Requirement already satisfied: pillow>=6.2.0 in c:\\users\\owner\\anaconda3\\lib\\site-packages (from matplotlib) (8.4.0)\n",
            "Requirement already satisfied: python-dateutil>=2.7 in c:\\users\\owner\\anaconda3\\lib\\site-packages (from matplotlib) (2.8.2)\n",
            "Requirement already satisfied: kiwisolver>=1.0.1 in c:\\users\\owner\\anaconda3\\lib\\site-packages (from matplotlib) (1.3.1)\n",
            "Requirement already satisfied: cycler>=0.10 in c:\\users\\owner\\anaconda3\\lib\\site-packages (from matplotlib) (0.10.0)\n",
            "Requirement already satisfied: six in c:\\users\\owner\\anaconda3\\lib\\site-packages (from cycler>=0.10->matplotlib) (1.16.0)\n",
            "Original Image\n"
          ]
        },
        {
          "data": {
            "image/png": "[encoded data removed]",
            "text/plain": [
              "<Figure size 432x288 with 1 Axes>"
            ]
          },
          "metadata": {
            "needs_background": "light"
          },
          "output_type": "display_data"
        },
        {
          "name": "stdout",
          "output_type": "stream",
          "text": [
            "(784, 3)\n",
            "After K-Means Clustering\n"
          ]
        },
        {
          "data": {
            "image/png": "[encoded data removed]",
            "text/plain": [
              "<Figure size 432x288 with 1 Axes>"
            ]
          },
          "metadata": {
            "needs_background": "light"
          },
          "output_type": "display_data"
        }
      ],
      "source": [
        "%run ./K-Means_Clustering_Algorithm.ipynb"
      ]
    },
    {
      "cell_type": "markdown",
      "id": "deeeae77",
      "metadata": {
        "id": "deeeae77"
      },
      "source": [
        "# Calling Hierarchical Clustering Algorithm"
      ]
    },
    {
      "cell_type": "code",
      "execution_count": null,
      "id": "8effb6c3",
      "metadata": {
        "id": "8effb6c3",
        "outputId": "e1aae541-886c-487f-960f-5abae9f0917f"
      },
      "outputs": [
        {
          "data": {
            "image/png": "[encoded data removed]",
            "text/plain": [
              "<Figure size 432x288 with 1 Axes>"
            ]
          },
          "metadata": {
            "needs_background": "light"
          },
          "output_type": "display_data"
        },
        {
          "name": "stdout",
          "output_type": "stream",
          "text": [
            "Computing initial clusters ...\n",
            "processing pixel: 0\n",
            "number of initial clusters: 2\n",
            "merging clusters ...\n",
            "assigning cluster num to each point ...\n",
            "Computing cluster centers ...\n"
          ]
        },
        {
          "data": {
            "image/png": "[encoded data removed]",
            "text/plain": [
              "<Figure size 720x720 with 2 Axes>"
            ]
          },
          "metadata": {
            "needs_background": "light"
          },
          "output_type": "display_data"
        }
      ],
      "source": [
        "%run ./Hierarchical_Clustering_Algorithm.ipynb"
      ]
    },
    {
      "cell_type": "markdown",
      "id": "de77b2f4",
      "metadata": {
        "id": "de77b2f4"
      },
      "source": [
        "# Calling Fuzzy C-Means Clustering Algorithm"
      ]
    },
    {
      "cell_type": "code",
      "execution_count": null,
      "id": "988787af",
      "metadata": {
        "id": "988787af",
        "outputId": "c24bb83a-6f8c-4a71-e172-5e8b29225d45"
      },
      "outputs": [
        {
          "data": {
            "image/png": "[encoded data removed]",
            "text/plain": [
              "<Figure size 432x288 with 1 Axes>"
            ]
          },
          "metadata": {
            "needs_background": "light"
          },
          "output_type": "display_data"
        },
        {
          "name": "stderr",
          "output_type": "stream",
          "text": [
            "Clipping input data to the valid range for imshow with RGB data ([0..1] for floats or [0..255] for integers).\n"
          ]
        },
        {
          "data": {
            "image/png": "[encoded data removed]",
            "text/plain": [
              "<Figure size 432x288 with 1 Axes>"
            ]
          },
          "metadata": {
            "needs_background": "light"
          },
          "output_type": "display_data"
        },
        {
          "ename": "NameError",
          "evalue": "name 'foo' is not defined",
          "output_type": "error",
          "traceback": [
            "\u001b[1;31m---------------------------------------------------------------------------\u001b[0m",
            "\u001b[1;31mNameError\u001b[0m                                 Traceback (most recent call last)",
            "\u001b[1;32m~\\AppData\\Local\\Temp/ipykernel_10952/2396378803.py\u001b[0m in \u001b[0;36m<module>\u001b[1;34m\u001b[0m\n\u001b[0;32m      1\u001b[0m \u001b[0mget_ipython\u001b[0m\u001b[1;33m(\u001b[0m\u001b[1;33m)\u001b[0m\u001b[1;33m.\u001b[0m\u001b[0mrun_line_magic\u001b[0m\u001b[1;33m(\u001b[0m\u001b[1;34m'run'\u001b[0m\u001b[1;33m,\u001b[0m \u001b[1;34m'./Fuzzy_C-Means_Clustering_Algorithm.ipynb'\u001b[0m\u001b[1;33m)\u001b[0m\u001b[1;33m\u001b[0m\u001b[1;33m\u001b[0m\u001b[0m\n\u001b[1;32m----> 2\u001b[1;33m \u001b[0mfoo\u001b[0m\u001b[1;33m(\u001b[0m\u001b[1;33m)\u001b[0m\u001b[1;33m\u001b[0m\u001b[1;33m\u001b[0m\u001b[0m\n\u001b[0m",
            "\u001b[1;31mNameError\u001b[0m: name 'foo' is not defined"
          ]
        }
      ],
      "source": [
        "%run ./Fuzzy_C-Means_Clustering_Algorithm.ipynb\n",
        "foo()"
      ]
    },
    {
      "cell_type": "markdown",
      "id": "6c231a78",
      "metadata": {
        "id": "6c231a78"
      },
      "source": [
        "\n",
        "#  CNN Model"
      ]
    },
    {
      "cell_type": "code",
      "execution_count": null,
      "id": "4950a5ba",
      "metadata": {
        "id": "4950a5ba",
        "outputId": "b325702a-52d8-4aa6-e545-388c5795bba8"
      },
      "outputs": [
        {
          "name": "stdout",
          "output_type": "stream",
          "text": [
            "Fuzzy C-Means Clustering/Train\\A\n",
            "Fuzzy C-Means Clustering/Train\\A\n",
            "Fuzzy C-Means Clustering/Train\\A\n",
            "Fuzzy C-Means Clustering/Train\\A\n",
            "Fuzzy C-Means Clustering/Train\\A\n",
            "Fuzzy C-Means Clustering/Train\\A\n",
            "Fuzzy C-Means Clustering/Train\\A\n",
            "Fuzzy C-Means Clustering/Train\\A\n",
            "Fuzzy C-Means Clustering/Train\\A\n",
            "Fuzzy C-Means Clustering/Train\\A\n",
            "Fuzzy C-Means Clustering/Train\\B\n",
            "Fuzzy C-Means Clustering/Train\\B\n",
            "Fuzzy C-Means Clustering/Train\\B\n",
            "Fuzzy C-Means Clustering/Train\\B\n",
            "Fuzzy C-Means Clustering/Train\\B\n",
            "Fuzzy C-Means Clustering/Train\\B\n",
            "Fuzzy C-Means Clustering/Train\\B\n",
            "Fuzzy C-Means Clustering/Train\\B\n",
            "Fuzzy C-Means Clustering/Train\\B\n",
            "Fuzzy C-Means Clustering/Train\\B\n",
            "Fuzzy C-Means Clustering/Train\\C\n",
            "Fuzzy C-Means Clustering/Train\\C\n",
            "Fuzzy C-Means Clustering/Train\\C\n",
            "Fuzzy C-Means Clustering/Train\\C\n",
            "Fuzzy C-Means Clustering/Train\\C\n",
            "Fuzzy C-Means Clustering/Train\\C\n",
            "Fuzzy C-Means Clustering/Train\\C\n",
            "Fuzzy C-Means Clustering/Train\\C\n",
            "Fuzzy C-Means Clustering/Train\\C\n",
            "Fuzzy C-Means Clustering/Train\\C\n",
            "Fuzzy C-Means Clustering/Train\\E\n",
            "Fuzzy C-Means Clustering/Train\\E\n",
            "Fuzzy C-Means Clustering/Train\\E\n",
            "Fuzzy C-Means Clustering/Train\\E\n",
            "Fuzzy C-Means Clustering/Train\\E\n",
            "Fuzzy C-Means Clustering/Train\\E\n",
            "Fuzzy C-Means Clustering/Train\\E\n",
            "Fuzzy C-Means Clustering/Train\\E\n",
            "Fuzzy C-Means Clustering/Train\\E\n",
            "Fuzzy C-Means Clustering/Train\\E\n",
            "Fuzzy C-Means Clustering/Train\\F\n",
            "Fuzzy C-Means Clustering/Train\\F\n",
            "Fuzzy C-Means Clustering/Train\\F\n",
            "Fuzzy C-Means Clustering/Train\\F\n",
            "Fuzzy C-Means Clustering/Train\\F\n",
            "Fuzzy C-Means Clustering/Train\\F\n",
            "Fuzzy C-Means Clustering/Train\\F\n",
            "Fuzzy C-Means Clustering/Train\\F\n",
            "Fuzzy C-Means Clustering/Train\\F\n",
            "Fuzzy C-Means Clustering/Train\\F\n",
            "Fuzzy C-Means Clustering/Train\\G\n",
            "Fuzzy C-Means Clustering/Train\\G\n",
            "Fuzzy C-Means Clustering/Train\\G\n",
            "Fuzzy C-Means Clustering/Train\\G\n",
            "Fuzzy C-Means Clustering/Train\\G\n",
            "Fuzzy C-Means Clustering/Train\\G\n",
            "Fuzzy C-Means Clustering/Train\\G\n",
            "Fuzzy C-Means Clustering/Train\\G\n",
            "Fuzzy C-Means Clustering/Train\\G\n",
            "Fuzzy C-Means Clustering/Train\\G\n",
            "Fuzzy C-Means Clustering/Train\\I\n",
            "Fuzzy C-Means Clustering/Train\\I\n",
            "Fuzzy C-Means Clustering/Train\\I\n",
            "Fuzzy C-Means Clustering/Train\\I\n",
            "Fuzzy C-Means Clustering/Train\\I\n",
            "Fuzzy C-Means Clustering/Train\\I\n",
            "Fuzzy C-Means Clustering/Train\\I\n",
            "Fuzzy C-Means Clustering/Train\\I\n",
            "Fuzzy C-Means Clustering/Train\\I\n",
            "Fuzzy C-Means Clustering/Train\\I\n",
            "Fuzzy C-Means Clustering/Train\\J\n",
            "Fuzzy C-Means Clustering/Train\\J\n",
            "Fuzzy C-Means Clustering/Train\\J\n",
            "Fuzzy C-Means Clustering/Train\\J\n",
            "Fuzzy C-Means Clustering/Train\\J\n",
            "Fuzzy C-Means Clustering/Train\\J\n",
            "Fuzzy C-Means Clustering/Train\\J\n",
            "Fuzzy C-Means Clustering/Train\\J\n",
            "Fuzzy C-Means Clustering/Train\\J\n",
            "Fuzzy C-Means Clustering/Train\\J\n",
            "Fuzzy C-Means Clustering/Train\\K\n",
            "Fuzzy C-Means Clustering/Train\\K\n",
            "Fuzzy C-Means Clustering/Train\\K\n",
            "Fuzzy C-Means Clustering/Train\\K\n",
            "Fuzzy C-Means Clustering/Train\\K\n",
            "Fuzzy C-Means Clustering/Train\\K\n",
            "Fuzzy C-Means Clustering/Train\\K\n",
            "Fuzzy C-Means Clustering/Train\\K\n",
            "Fuzzy C-Means Clustering/Train\\K\n",
            "Fuzzy C-Means Clustering/Train\\K\n",
            "Fuzzy C-Means Clustering/Train\\L\n",
            "Fuzzy C-Means Clustering/Train\\L\n",
            "Fuzzy C-Means Clustering/Train\\L\n",
            "Fuzzy C-Means Clustering/Train\\L\n",
            "Fuzzy C-Means Clustering/Train\\L\n",
            "Fuzzy C-Means Clustering/Train\\L\n",
            "Fuzzy C-Means Clustering/Train\\L\n",
            "Fuzzy C-Means Clustering/Train\\L\n",
            "Fuzzy C-Means Clustering/Train\\L\n",
            "Fuzzy C-Means Clustering/Train\\L\n",
            "Fuzzy C-Means Clustering/Train\\L\n",
            "Fuzzy C-Means Clustering/Train\\L\n",
            "Fuzzy C-Means Clustering/Train\\L\n",
            "Fuzzy C-Means Clustering/Train\\L\n",
            "Fuzzy C-Means Clustering/Train\\L\n",
            "Fuzzy C-Means Clustering/Train\\L\n",
            "Fuzzy C-Means Clustering/Train\\L\n",
            "Fuzzy C-Means Clustering/Train\\L\n",
            "Fuzzy C-Means Clustering/Train\\L\n",
            "Fuzzy C-Means Clustering/Train\\L\n",
            "Fuzzy C-Means Clustering/Train\\L\n",
            "Fuzzy C-Means Clustering/Train\\L\n",
            "Fuzzy C-Means Clustering/Train\\L\n",
            "Fuzzy C-Means Clustering/Train\\L\n",
            "Fuzzy C-Means Clustering/Train\\L\n",
            "Fuzzy C-Means Clustering/Train\\L\n",
            "Fuzzy C-Means Clustering/Train\\L\n",
            "Fuzzy C-Means Clustering/Train\\L\n",
            "Fuzzy C-Means Clustering/Train\\L\n",
            "Fuzzy C-Means Clustering/Train\\L\n",
            "Fuzzy C-Means Clustering/Train\\L\n",
            "Fuzzy C-Means Clustering/Train\\L\n",
            "Fuzzy C-Means Clustering/Train\\L\n",
            "Fuzzy C-Means Clustering/Train\\L\n",
            "Fuzzy C-Means Clustering/Train\\L\n",
            "Fuzzy C-Means Clustering/Train\\L\n",
            "Fuzzy C-Means Clustering/Train\\L\n",
            "Fuzzy C-Means Clustering/Train\\L\n",
            "Fuzzy C-Means Clustering/Train\\L\n",
            "Fuzzy C-Means Clustering/Train\\L\n",
            "Fuzzy C-Means Clustering/Train\\M\n",
            "Fuzzy C-Means Clustering/Train\\M\n",
            "Fuzzy C-Means Clustering/Train\\M\n",
            "Fuzzy C-Means Clustering/Train\\M\n",
            "Fuzzy C-Means Clustering/Train\\M\n",
            "Fuzzy C-Means Clustering/Train\\M\n",
            "Fuzzy C-Means Clustering/Train\\M\n",
            "Fuzzy C-Means Clustering/Train\\M\n",
            "Fuzzy C-Means Clustering/Train\\M\n",
            "Fuzzy C-Means Clustering/Train\\M\n",
            "Fuzzy C-Means Clustering/Train\\N\n",
            "Fuzzy C-Means Clustering/Train\\N\n",
            "Fuzzy C-Means Clustering/Train\\N\n",
            "Fuzzy C-Means Clustering/Train\\N\n",
            "Fuzzy C-Means Clustering/Train\\N\n",
            "Fuzzy C-Means Clustering/Train\\N\n",
            "Fuzzy C-Means Clustering/Train\\N\n",
            "Fuzzy C-Means Clustering/Train\\N\n",
            "Fuzzy C-Means Clustering/Train\\N\n",
            "Fuzzy C-Means Clustering/Train\\N\n",
            "Fuzzy C-Means Clustering/Train\\O\n",
            "Fuzzy C-Means Clustering/Train\\O\n",
            "Fuzzy C-Means Clustering/Train\\O\n",
            "Fuzzy C-Means Clustering/Train\\O\n",
            "Fuzzy C-Means Clustering/Train\\O\n",
            "Fuzzy C-Means Clustering/Train\\O\n",
            "Fuzzy C-Means Clustering/Train\\O\n",
            "Fuzzy C-Means Clustering/Train\\O\n",
            "Fuzzy C-Means Clustering/Train\\O\n",
            "Fuzzy C-Means Clustering/Train\\O\n",
            "Fuzzy C-Means Clustering/Train\\P\n",
            "Fuzzy C-Means Clustering/Train\\P\n",
            "Fuzzy C-Means Clustering/Train\\P\n",
            "Fuzzy C-Means Clustering/Train\\P\n",
            "Fuzzy C-Means Clustering/Train\\P\n",
            "Fuzzy C-Means Clustering/Train\\P\n",
            "Fuzzy C-Means Clustering/Train\\P\n",
            "Fuzzy C-Means Clustering/Train\\P\n",
            "Fuzzy C-Means Clustering/Train\\P\n",
            "Fuzzy C-Means Clustering/Train\\P\n",
            "Fuzzy C-Means Clustering/Train\\Q\n",
            "Fuzzy C-Means Clustering/Train\\Q\n",
            "Fuzzy C-Means Clustering/Train\\Q\n",
            "Fuzzy C-Means Clustering/Train\\Q\n",
            "Fuzzy C-Means Clustering/Train\\Q\n",
            "Fuzzy C-Means Clustering/Train\\Q\n",
            "Fuzzy C-Means Clustering/Train\\Q\n",
            "Fuzzy C-Means Clustering/Train\\Q\n",
            "Fuzzy C-Means Clustering/Train\\Q\n",
            "Fuzzy C-Means Clustering/Train\\Q\n",
            "Fuzzy C-Means Clustering/Train\\R\n",
            "Fuzzy C-Means Clustering/Train\\R\n",
            "Fuzzy C-Means Clustering/Train\\R\n",
            "Fuzzy C-Means Clustering/Train\\R\n",
            "Fuzzy C-Means Clustering/Train\\R\n",
            "Fuzzy C-Means Clustering/Train\\R\n",
            "Fuzzy C-Means Clustering/Train\\R\n",
            "Fuzzy C-Means Clustering/Train\\R\n",
            "Fuzzy C-Means Clustering/Train\\R\n",
            "Fuzzy C-Means Clustering/Train\\R\n",
            "Fuzzy C-Means Clustering/Train\\S\n",
            "Fuzzy C-Means Clustering/Train\\S\n",
            "Fuzzy C-Means Clustering/Train\\S\n",
            "Fuzzy C-Means Clustering/Train\\S\n",
            "Fuzzy C-Means Clustering/Train\\S\n",
            "Fuzzy C-Means Clustering/Train\\S\n",
            "Fuzzy C-Means Clustering/Train\\S\n",
            "Fuzzy C-Means Clustering/Train\\S\n",
            "Fuzzy C-Means Clustering/Train\\S\n",
            "Fuzzy C-Means Clustering/Train\\S\n",
            "Fuzzy C-Means Clustering/Train\\T\n",
            "Fuzzy C-Means Clustering/Train\\T\n",
            "Fuzzy C-Means Clustering/Train\\T\n",
            "Fuzzy C-Means Clustering/Train\\T\n",
            "Fuzzy C-Means Clustering/Train\\T\n",
            "Fuzzy C-Means Clustering/Train\\T\n",
            "Fuzzy C-Means Clustering/Train\\T\n",
            "Fuzzy C-Means Clustering/Train\\T\n",
            "Fuzzy C-Means Clustering/Train\\T\n",
            "Fuzzy C-Means Clustering/Train\\T\n",
            "Fuzzy C-Means Clustering/Train\\U\n",
            "Fuzzy C-Means Clustering/Train\\U\n",
            "Fuzzy C-Means Clustering/Train\\U\n",
            "Fuzzy C-Means Clustering/Train\\U\n",
            "Fuzzy C-Means Clustering/Train\\U\n",
            "Fuzzy C-Means Clustering/Train\\U\n",
            "Fuzzy C-Means Clustering/Train\\U\n",
            "Fuzzy C-Means Clustering/Train\\U\n",
            "Fuzzy C-Means Clustering/Train\\U\n",
            "Fuzzy C-Means Clustering/Train\\U\n",
            "Fuzzy C-Means Clustering/Train\\V\n",
            "Fuzzy C-Means Clustering/Train\\V\n",
            "Fuzzy C-Means Clustering/Train\\V\n",
            "Fuzzy C-Means Clustering/Train\\V\n",
            "Fuzzy C-Means Clustering/Train\\V\n",
            "Fuzzy C-Means Clustering/Train\\V\n",
            "Fuzzy C-Means Clustering/Train\\V\n",
            "Fuzzy C-Means Clustering/Train\\V\n",
            "Fuzzy C-Means Clustering/Train\\V\n",
            "Fuzzy C-Means Clustering/Train\\V\n",
            "Fuzzy C-Means Clustering/Train\\V\n",
            "Fuzzy C-Means Clustering/Train\\W\n",
            "Fuzzy C-Means Clustering/Train\\W\n",
            "Fuzzy C-Means Clustering/Train\\W\n",
            "Fuzzy C-Means Clustering/Train\\W\n",
            "Fuzzy C-Means Clustering/Train\\W\n",
            "Fuzzy C-Means Clustering/Train\\W\n",
            "Fuzzy C-Means Clustering/Train\\W\n",
            "Fuzzy C-Means Clustering/Train\\W\n",
            "Fuzzy C-Means Clustering/Train\\W\n",
            "Fuzzy C-Means Clustering/Train\\W\n",
            "Fuzzy C-Means Clustering/Train\\X\n",
            "Fuzzy C-Means Clustering/Train\\X\n",
            "Fuzzy C-Means Clustering/Train\\X\n",
            "Fuzzy C-Means Clustering/Train\\X\n",
            "Fuzzy C-Means Clustering/Train\\X\n",
            "Fuzzy C-Means Clustering/Train\\X\n",
            "Fuzzy C-Means Clustering/Train\\X\n",
            "Fuzzy C-Means Clustering/Train\\X\n",
            "Fuzzy C-Means Clustering/Train\\X\n",
            "Fuzzy C-Means Clustering/Train\\Y\n",
            "Fuzzy C-Means Clustering/Train\\Y\n",
            "Fuzzy C-Means Clustering/Train\\Y\n",
            "Fuzzy C-Means Clustering/Train\\Y\n",
            "Fuzzy C-Means Clustering/Train\\Y\n",
            "Fuzzy C-Means Clustering/Train\\Y\n",
            "Fuzzy C-Means Clustering/Train\\Y\n",
            "Fuzzy C-Means Clustering/Train\\Y\n",
            "Fuzzy C-Means Clustering/Train\\Y\n",
            "Fuzzy C-Means Clustering/Train\\Z\n",
            "Fuzzy C-Means Clustering/Train\\Z\n",
            "Fuzzy C-Means Clustering/Train\\Z\n",
            "Fuzzy C-Means Clustering/Train\\Z\n",
            "Fuzzy C-Means Clustering/Train\\Z\n",
            "Fuzzy C-Means Clustering/Train\\Z\n",
            "Fuzzy C-Means Clustering/Train\\Z\n",
            "Fuzzy C-Means Clustering/Train\\Z\n",
            "Fuzzy C-Means Clustering/Train\\Z\n",
            "Fuzzy C-Means Clustering/Train\\Z\n"
          ]
        }
      ],
      "source": [
        "dir = \"Fuzzy C-Means Clustering/Train\"\n",
        "train_data = []\n",
        "img_size = 28\n",
        "#non_chars = [\"#\",\"$\",\"&\",\"@\"]\n",
        "for i in os.listdir(dir):\n",
        "    #if i in non_chars:\n",
        "        #continue\n",
        "    #count = 0\n",
        "    sub_directory = os.path.join(dir,i)\n",
        "    for j in os.listdir(sub_directory):\n",
        "        count+=1\n",
        "        if count > 4000:\n",
        "            break\n",
        "        img = cv2.imread(os.path.join(sub_directory,j),0)\n",
        "        print(sub_directory)\n",
        "\n",
        "        img = cv2.resize(img,(img_size,img_size))\n",
        "        train_data.append([img,i])"
      ]
    },
    {
      "cell_type": "code",
      "execution_count": null,
      "id": "e6862ae0",
      "metadata": {
        "id": "e6862ae0",
        "outputId": "d56eb256-dc6c-4047-ebad-48be93989cf9"
      },
      "outputs": [
        {
          "data": {
            "text/plain": [
              "269"
            ]
          },
          "execution_count": 50,
          "metadata": {},
          "output_type": "execute_result"
        }
      ],
      "source": [
        "len(train_data)"
      ]
    },
    {
      "cell_type": "code",
      "execution_count": null,
      "id": "d6c20da7",
      "metadata": {
        "id": "d6c20da7",
        "outputId": "f945cc4d-0a51-441a-adcc-1212000eb47c"
      },
      "outputs": [
        {
          "name": "stdout",
          "output_type": "stream",
          "text": [
            "Fuzzy C-Means Clustering/Validation\\A\n",
            "Fuzzy C-Means Clustering/Validation\\A\n",
            "Fuzzy C-Means Clustering/Validation\\A\n",
            "Fuzzy C-Means Clustering/Validation\\A\n",
            "Fuzzy C-Means Clustering/Validation\\A\n",
            "Fuzzy C-Means Clustering/Validation\\A\n",
            "Fuzzy C-Means Clustering/Validation\\A\n",
            "Fuzzy C-Means Clustering/Validation\\B\n",
            "Fuzzy C-Means Clustering/Validation\\B\n",
            "Fuzzy C-Means Clustering/Validation\\B\n",
            "Fuzzy C-Means Clustering/Validation\\B\n",
            "Fuzzy C-Means Clustering/Validation\\B\n",
            "Fuzzy C-Means Clustering/Validation\\B\n",
            "Fuzzy C-Means Clustering/Validation\\C\n",
            "Fuzzy C-Means Clustering/Validation\\C\n",
            "Fuzzy C-Means Clustering/Validation\\C\n",
            "Fuzzy C-Means Clustering/Validation\\C\n",
            "Fuzzy C-Means Clustering/Validation\\C\n",
            "Fuzzy C-Means Clustering/Validation\\C\n",
            "Fuzzy C-Means Clustering/Validation\\E\n",
            "Fuzzy C-Means Clustering/Validation\\E\n",
            "Fuzzy C-Means Clustering/Validation\\E\n",
            "Fuzzy C-Means Clustering/Validation\\E\n",
            "Fuzzy C-Means Clustering/Validation\\E\n",
            "Fuzzy C-Means Clustering/Validation\\E\n",
            "Fuzzy C-Means Clustering/Validation\\F\n",
            "Fuzzy C-Means Clustering/Validation\\F\n",
            "Fuzzy C-Means Clustering/Validation\\F\n",
            "Fuzzy C-Means Clustering/Validation\\F\n",
            "Fuzzy C-Means Clustering/Validation\\F\n",
            "Fuzzy C-Means Clustering/Validation\\F\n",
            "Fuzzy C-Means Clustering/Validation\\G\n",
            "Fuzzy C-Means Clustering/Validation\\G\n",
            "Fuzzy C-Means Clustering/Validation\\G\n",
            "Fuzzy C-Means Clustering/Validation\\G\n",
            "Fuzzy C-Means Clustering/Validation\\G\n",
            "Fuzzy C-Means Clustering/Validation\\G\n",
            "Fuzzy C-Means Clustering/Validation\\I\n",
            "Fuzzy C-Means Clustering/Validation\\I\n",
            "Fuzzy C-Means Clustering/Validation\\I\n",
            "Fuzzy C-Means Clustering/Validation\\I\n",
            "Fuzzy C-Means Clustering/Validation\\I\n",
            "Fuzzy C-Means Clustering/Validation\\I\n",
            "Fuzzy C-Means Clustering/Validation\\J\n",
            "Fuzzy C-Means Clustering/Validation\\J\n",
            "Fuzzy C-Means Clustering/Validation\\J\n",
            "Fuzzy C-Means Clustering/Validation\\J\n",
            "Fuzzy C-Means Clustering/Validation\\J\n",
            "Fuzzy C-Means Clustering/Validation\\J\n",
            "Fuzzy C-Means Clustering/Validation\\K\n",
            "Fuzzy C-Means Clustering/Validation\\K\n",
            "Fuzzy C-Means Clustering/Validation\\K\n",
            "Fuzzy C-Means Clustering/Validation\\K\n",
            "Fuzzy C-Means Clustering/Validation\\K\n",
            "Fuzzy C-Means Clustering/Validation\\K\n",
            "Fuzzy C-Means Clustering/Validation\\L\n",
            "Fuzzy C-Means Clustering/Validation\\L\n",
            "Fuzzy C-Means Clustering/Validation\\L\n",
            "Fuzzy C-Means Clustering/Validation\\L\n",
            "Fuzzy C-Means Clustering/Validation\\L\n",
            "Fuzzy C-Means Clustering/Validation\\L\n",
            "Fuzzy C-Means Clustering/Validation\\M\n",
            "Fuzzy C-Means Clustering/Validation\\M\n",
            "Fuzzy C-Means Clustering/Validation\\M\n",
            "Fuzzy C-Means Clustering/Validation\\M\n",
            "Fuzzy C-Means Clustering/Validation\\M\n",
            "Fuzzy C-Means Clustering/Validation\\M\n",
            "Fuzzy C-Means Clustering/Validation\\N\n",
            "Fuzzy C-Means Clustering/Validation\\N\n",
            "Fuzzy C-Means Clustering/Validation\\N\n",
            "Fuzzy C-Means Clustering/Validation\\N\n",
            "Fuzzy C-Means Clustering/Validation\\N\n",
            "Fuzzy C-Means Clustering/Validation\\N\n",
            "Fuzzy C-Means Clustering/Validation\\O\n",
            "Fuzzy C-Means Clustering/Validation\\O\n",
            "Fuzzy C-Means Clustering/Validation\\O\n",
            "Fuzzy C-Means Clustering/Validation\\O\n",
            "Fuzzy C-Means Clustering/Validation\\O\n",
            "Fuzzy C-Means Clustering/Validation\\O\n",
            "Fuzzy C-Means Clustering/Validation\\P\n",
            "Fuzzy C-Means Clustering/Validation\\P\n",
            "Fuzzy C-Means Clustering/Validation\\P\n",
            "Fuzzy C-Means Clustering/Validation\\P\n",
            "Fuzzy C-Means Clustering/Validation\\P\n",
            "Fuzzy C-Means Clustering/Validation\\P\n",
            "Fuzzy C-Means Clustering/Validation\\Q\n",
            "Fuzzy C-Means Clustering/Validation\\Q\n",
            "Fuzzy C-Means Clustering/Validation\\Q\n",
            "Fuzzy C-Means Clustering/Validation\\Q\n",
            "Fuzzy C-Means Clustering/Validation\\Q\n",
            "Fuzzy C-Means Clustering/Validation\\Q\n",
            "Fuzzy C-Means Clustering/Validation\\R\n",
            "Fuzzy C-Means Clustering/Validation\\R\n",
            "Fuzzy C-Means Clustering/Validation\\R\n",
            "Fuzzy C-Means Clustering/Validation\\R\n",
            "Fuzzy C-Means Clustering/Validation\\R\n",
            "Fuzzy C-Means Clustering/Validation\\R\n",
            "Fuzzy C-Means Clustering/Validation\\S\n",
            "Fuzzy C-Means Clustering/Validation\\S\n",
            "Fuzzy C-Means Clustering/Validation\\S\n",
            "Fuzzy C-Means Clustering/Validation\\S\n",
            "Fuzzy C-Means Clustering/Validation\\S\n",
            "Fuzzy C-Means Clustering/Validation\\S\n",
            "Fuzzy C-Means Clustering/Validation\\T\n",
            "Fuzzy C-Means Clustering/Validation\\T\n",
            "Fuzzy C-Means Clustering/Validation\\T\n",
            "Fuzzy C-Means Clustering/Validation\\T\n",
            "Fuzzy C-Means Clustering/Validation\\T\n",
            "Fuzzy C-Means Clustering/Validation\\T\n",
            "Fuzzy C-Means Clustering/Validation\\U\n",
            "Fuzzy C-Means Clustering/Validation\\U\n",
            "Fuzzy C-Means Clustering/Validation\\U\n",
            "Fuzzy C-Means Clustering/Validation\\U\n",
            "Fuzzy C-Means Clustering/Validation\\U\n",
            "Fuzzy C-Means Clustering/Validation\\U\n",
            "Fuzzy C-Means Clustering/Validation\\V\n",
            "Fuzzy C-Means Clustering/Validation\\V\n",
            "Fuzzy C-Means Clustering/Validation\\V\n",
            "Fuzzy C-Means Clustering/Validation\\V\n",
            "Fuzzy C-Means Clustering/Validation\\V\n",
            "Fuzzy C-Means Clustering/Validation\\V\n",
            "Fuzzy C-Means Clustering/Validation\\W\n",
            "Fuzzy C-Means Clustering/Validation\\W\n",
            "Fuzzy C-Means Clustering/Validation\\W\n",
            "Fuzzy C-Means Clustering/Validation\\W\n",
            "Fuzzy C-Means Clustering/Validation\\W\n",
            "Fuzzy C-Means Clustering/Validation\\W\n",
            "Fuzzy C-Means Clustering/Validation\\X\n",
            "Fuzzy C-Means Clustering/Validation\\X\n",
            "Fuzzy C-Means Clustering/Validation\\X\n",
            "Fuzzy C-Means Clustering/Validation\\X\n",
            "Fuzzy C-Means Clustering/Validation\\X\n",
            "Fuzzy C-Means Clustering/Validation\\X\n",
            "Fuzzy C-Means Clustering/Validation\\Y\n",
            "Fuzzy C-Means Clustering/Validation\\Y\n",
            "Fuzzy C-Means Clustering/Validation\\Y\n",
            "Fuzzy C-Means Clustering/Validation\\Y\n",
            "Fuzzy C-Means Clustering/Validation\\Y\n",
            "Fuzzy C-Means Clustering/Validation\\Y\n",
            "Fuzzy C-Means Clustering/Validation\\Z\n",
            "Fuzzy C-Means Clustering/Validation\\Z\n",
            "Fuzzy C-Means Clustering/Validation\\Z\n",
            "Fuzzy C-Means Clustering/Validation\\Z\n",
            "Fuzzy C-Means Clustering/Validation\\Z\n",
            "Fuzzy C-Means Clustering/Validation\\Z\n"
          ]
        }
      ],
      "source": [
        "val_dir = \"Fuzzy C-Means Clustering/Validation\"\n",
        "val_data = []\n",
        "img_size = 28\n",
        "for i in os.listdir(val_dir):\n",
        "    #if i in non_chars:\n",
        "        #continue\n",
        "    #count = 0\n",
        "    sub_directory = os.path.join(val_dir,i)\n",
        "    for j in os.listdir(sub_directory):\n",
        "        count+=1\n",
        "        if count > 1000:\n",
        "            break\n",
        "        img = cv2.imread(os.path.join(sub_directory,j),0)\n",
        "        print(sub_directory)\n",
        "\n",
        "        img = cv2.resize(img,(img_size,img_size))\n",
        "        val_data.append([img,i])"
      ]
    },
    {
      "cell_type": "code",
      "execution_count": null,
      "id": "5dee77bf",
      "metadata": {
        "id": "5dee77bf",
        "outputId": "36672c93-e377-4730-fb67-8d8021b625aa"
      },
      "outputs": [
        {
          "data": {
            "text/plain": [
              "145"
            ]
          },
          "execution_count": 52,
          "metadata": {},
          "output_type": "execute_result"
        }
      ],
      "source": [
        "len(val_data)"
      ]
    },
    {
      "cell_type": "code",
      "execution_count": null,
      "id": "35631936",
      "metadata": {
        "id": "35631936"
      },
      "outputs": [],
      "source": [
        "random.shuffle(train_data)\n",
        "random.shuffle(val_data)"
      ]
    },
    {
      "cell_type": "code",
      "execution_count": null,
      "id": "fc9b2e68",
      "metadata": {
        "id": "fc9b2e68",
        "outputId": "1744098a-5330-4dc4-e2bb-171c77ba773f"
      },
      "outputs": [
        {
          "name": "stdout",
          "output_type": "stream",
          "text": [
            "['U', 'Y', 'R', 'N', 'T', 'Q', 'S', 'W', 'U', 'S', 'V', 'F', 'M', 'L', 'Y', 'O', 'N', 'F', 'W', 'J', 'U', 'A', 'L', 'K', 'F', 'Z', 'W', 'N', 'U', 'L', 'T', 'N', 'Z', 'K', 'U', 'M', 'O', 'Y', 'K', 'G', 'B', 'G', 'Y', 'I', 'E', 'I', 'T', 'Z', 'O', 'K', 'S', 'P', 'F', 'V', 'C', 'R', 'E', 'V', 'B', 'S', 'K', 'X', 'I', 'W', 'L', 'S', 'X', 'L', 'Z', 'Q', 'I', 'O', 'L', 'N', 'L', 'Q', 'C', 'O', 'J', 'R', 'I', 'M', 'X', 'C', 'R', 'B', 'T', 'S', 'V', 'Y', 'L', 'N', 'O', 'M', 'L', 'M', 'L', 'J', 'E', 'O', 'V', 'M', 'I', 'C', 'S', 'E', 'L', 'Z', 'U', 'L', 'G', 'M', 'G', 'A', 'R', 'P', 'I', 'P', 'B', 'E', 'S', 'P', 'T', 'V', 'M', 'C', 'V', 'O', 'W', 'Q', 'L', 'Y', 'L', 'A', 'F', 'A', 'E', 'L', 'K', 'W', 'L', 'X', 'B', 'Q', 'J', 'B', 'C', 'K', 'L', 'V', 'R', 'G', 'T', 'Z', 'I', 'L', 'T', 'X', 'U', 'L', 'L', 'F', 'T', 'X', 'G', 'A', 'Q', 'L', 'N', 'W', 'P', 'G', 'X', 'B', 'C', 'N', 'Z', 'B', 'L', 'F', 'L', 'W', 'R', 'L', 'A', 'B', 'L', 'G', 'L', 'E', 'S', 'M', 'X', 'V', 'V', 'N', 'M', 'U', 'K', 'L', 'L', 'I', 'P', 'E', 'Q', 'T', 'J', 'Z', 'X', 'L', 'B', 'W', 'L', 'P', 'L', 'Z', 'R', 'P', 'N', 'Q', 'A', 'A', 'L', 'J', 'L', 'L', 'E', 'Y', 'R', 'I', 'J', 'Q', 'L', 'K', 'K', 'W', 'C', 'Z', 'O', 'L', 'L', 'E', 'O', 'G', 'J', 'A', 'R', 'G', 'V', 'A', 'L', 'L', 'J', 'Y', 'F', 'P', 'F', 'C', 'Y', 'Q', 'F', 'P', 'S', 'C', 'U', 'U', 'L', 'J', 'T']\n"
          ]
        }
      ],
      "source": [
        "train_X = []\n",
        "train_Y = []\n",
        "for features,label in train_data:\n",
        "    train_X.append(features)\n",
        "    train_Y.append(label)\n",
        "    \n",
        "print(train_Y)"
      ]
    },
    {
      "cell_type": "code",
      "execution_count": null,
      "id": "00e56232",
      "metadata": {
        "id": "00e56232",
        "outputId": "badf74a8-db0d-4842-a43f-4ebf56a51492"
      },
      "outputs": [
        {
          "name": "stdout",
          "output_type": "stream",
          "text": [
            "['B', 'X', 'G', 'T', 'A', 'I', 'S', 'Q', 'P', 'W', 'N', 'O', 'V', 'Q', 'A', 'I', 'M', 'J', 'Z', 'Z', 'I', 'B', 'N', 'J', 'X', 'M', 'F', 'V', 'W', 'U', 'E', 'B', 'F', 'L', 'F', 'P', 'T', 'K', 'W', 'A', 'L', 'F', 'C', 'I', 'E', 'T', 'N', 'O', 'Y', 'J', 'U', 'L', 'A', 'T', 'W', 'G', 'I', 'L', 'Y', 'M', 'N', 'E', 'Z', 'G', 'K', 'Y', 'W', 'T', 'I', 'B', 'X', 'X', 'Z', 'P', 'L', 'E', 'Q', 'Z', 'K', 'X', 'Y', 'C', 'V', 'A', 'S', 'P', 'C', 'C', 'X', 'R', 'F', 'Q', 'S', 'K', 'Q', 'J', 'U', 'K', 'V', 'T', 'J', 'A', 'U', 'O', 'V', 'F', 'U', 'O', 'O', 'W', 'G', 'P', 'Z', 'G', 'P', 'R', 'C', 'M', 'E', 'C', 'N', 'S', 'E', 'K', 'S', 'O', 'L', 'J', 'R', 'U', 'V', 'M', 'R', 'G', 'M', 'Q', 'R', 'Y', 'Y', 'B', 'B', 'A', 'R', 'S', 'N']\n"
          ]
        }
      ],
      "source": [
        "val_X = []\n",
        "val_Y = []\n",
        "for features,label in val_data:\n",
        "    val_X.append(features)\n",
        "    val_Y.append(label)\n",
        "    \n",
        "print(val_Y)"
      ]
    },
    {
      "cell_type": "code",
      "execution_count": null,
      "id": "535b7585",
      "metadata": {
        "id": "535b7585"
      },
      "outputs": [],
      "source": [
        "LB = LabelBinarizer()\n",
        "train_Y = LB.fit_transform(train_Y)\n",
        "val_Y = LB.fit_transform(val_Y)"
      ]
    },
    {
      "cell_type": "code",
      "execution_count": null,
      "id": "6037fc70",
      "metadata": {
        "id": "6037fc70"
      },
      "outputs": [],
      "source": [
        "train_X = np.array(train_X)/255.0\n",
        "np_array = np.array(train_X)\n",
        "\n",
        "train_X = np_array.reshape(-1,28,28,1)\n",
        "train_Y = np.array(train_Y)"
      ]
    },
    {
      "cell_type": "code",
      "execution_count": null,
      "id": "97da49e9",
      "metadata": {
        "id": "97da49e9"
      },
      "outputs": [],
      "source": [
        "val_X = np.array(val_X)/255.0\n",
        "np_array = np.array(val_X)\n",
        "\n",
        "val_X = np_array.reshape(-1,28,28,1)\n",
        "val_Y = np.array(val_Y)"
      ]
    },
    {
      "cell_type": "code",
      "execution_count": null,
      "id": "15baa5d9",
      "metadata": {
        "id": "15baa5d9",
        "outputId": "786eaa8d-9b43-4f8b-f19a-34b61e48aecb"
      },
      "outputs": [
        {
          "name": "stdout",
          "output_type": "stream",
          "text": [
            "(269, 28, 28, 1) (145, 28, 28, 1)\n"
          ]
        }
      ],
      "source": [
        "print(train_X.shape,val_X.shape)"
      ]
    },
    {
      "cell_type": "code",
      "execution_count": null,
      "id": "cf246aa6",
      "metadata": {
        "id": "cf246aa6",
        "outputId": "4b45f005-f8cb-449d-8457-20852d0d8c63"
      },
      "outputs": [
        {
          "name": "stdout",
          "output_type": "stream",
          "text": [
            "(269, 24) (145, 24)\n"
          ]
        }
      ],
      "source": [
        "print(train_Y.shape,val_Y.shape)"
      ]
    },
    {
      "cell_type": "code",
      "execution_count": null,
      "id": "e37aac34",
      "metadata": {
        "id": "e37aac34"
      },
      "outputs": [],
      "source": [
        "model = Sequential()\n",
        "\n",
        "model.add(Conv2D(32, (3, 3), padding = \"same\", activation='relu', input_shape=(28,28,1)))\n",
        "model.add(MaxPooling2D(pool_size=(2,2)))\n",
        "model.add(Conv2D(64, (3, 3), activation='relu'))\n",
        "model.add(MaxPooling2D(pool_size=(2,2)))\n",
        "model.add(Conv2D(128, (3, 3), activation='relu'))\n",
        "model.add(MaxPooling2D(pool_size=(2,2)))\n",
        "model.add(Dropout(0.25))\n",
        " \n",
        "model.add(Flatten())\n",
        "model.add(Dense(64, activation='relu'))\n",
        "model.add(Dropout(0.2))\n",
        "model.add(Dense(24, activation='softmax'))"
      ]
    },
    {
      "cell_type": "code",
      "execution_count": null,
      "id": "1b9e837d",
      "metadata": {
        "id": "1b9e837d",
        "outputId": "3f7842de-41e5-4ce4-bc11-d112f2b576ca"
      },
      "outputs": [
        {
          "name": "stdout",
          "output_type": "stream",
          "text": [
            "Model: \"sequential_2\"\n",
            "_________________________________________________________________\n",
            " Layer (type)                Output Shape              Param #   \n",
            "=================================================================\n",
            " conv2d_6 (Conv2D)           (None, 28, 28, 32)        320       \n",
            "                                                                 \n",
            " max_pooling2d_6 (MaxPooling  (None, 14, 14, 32)       0         \n",
            " 2D)                                                             \n",
            "                                                                 \n",
            " conv2d_7 (Conv2D)           (None, 12, 12, 64)        18496     \n",
            "                                                                 \n",
            " max_pooling2d_7 (MaxPooling  (None, 6, 6, 64)         0         \n",
            " 2D)                                                             \n",
            "                                                                 \n",
            " conv2d_8 (Conv2D)           (None, 4, 4, 128)         73856     \n",
            "                                                                 \n",
            " max_pooling2d_8 (MaxPooling  (None, 2, 2, 128)        0         \n",
            " 2D)                                                             \n",
            "                                                                 \n",
            " dropout_4 (Dropout)         (None, 2, 2, 128)         0         \n",
            "                                                                 \n",
            " flatten_2 (Flatten)         (None, 512)               0         \n",
            "                                                                 \n",
            " dense_4 (Dense)             (None, 64)                32832     \n",
            "                                                                 \n",
            " dropout_5 (Dropout)         (None, 64)                0         \n",
            "                                                                 \n",
            " dense_5 (Dense)             (None, 24)                1560      \n",
            "                                                                 \n",
            "=================================================================\n",
            "Total params: 127,064\n",
            "Trainable params: 127,064\n",
            "Non-trainable params: 0\n",
            "_________________________________________________________________\n"
          ]
        }
      ],
      "source": [
        "model.summary()"
      ]
    },
    {
      "cell_type": "code",
      "execution_count": null,
      "id": "33028703",
      "metadata": {
        "id": "33028703"
      },
      "outputs": [],
      "source": [
        "model.compile(loss='categorical_crossentropy', optimizer=\"adam\",metrics=['accuracy'])"
      ]
    },
    {
      "cell_type": "code",
      "execution_count": null,
      "id": "498b8d14",
      "metadata": {
        "id": "498b8d14",
        "outputId": "9bbfbef2-e27c-48b8-b505-04e6fb91b5b4"
      },
      "outputs": [
        {
          "name": "stdout",
          "output_type": "stream",
          "text": [
            "Epoch 1/10\n",
            "27/27 [==============================] - 1s 29ms/step - loss: 3.1386 - accuracy: 0.0818 - val_loss: 3.1553 - val_accuracy: 0.0414\n",
            "Epoch 2/10\n",
            "27/27 [==============================] - 0s 17ms/step - loss: 2.8588 - accuracy: 0.1636 - val_loss: 2.8306 - val_accuracy: 0.0828\n",
            "Epoch 3/10\n",
            "27/27 [==============================] - 1s 18ms/step - loss: 2.3924 - accuracy: 0.2416 - val_loss: 2.1460 - val_accuracy: 0.2966\n",
            "Epoch 4/10\n",
            "27/27 [==============================] - 1s 19ms/step - loss: 2.0114 - accuracy: 0.3457 - val_loss: 1.8732 - val_accuracy: 0.3517\n",
            "Epoch 5/10\n",
            "27/27 [==============================] - 0s 17ms/step - loss: 1.6390 - accuracy: 0.4498 - val_loss: 1.7167 - val_accuracy: 0.4621\n",
            "Epoch 6/10\n",
            "27/27 [==============================] - 0s 17ms/step - loss: 1.4534 - accuracy: 0.4870 - val_loss: 1.5001 - val_accuracy: 0.4897\n",
            "Epoch 7/10\n",
            "27/27 [==============================] - 0s 17ms/step - loss: 1.2384 - accuracy: 0.5799 - val_loss: 1.3570 - val_accuracy: 0.5655\n",
            "Epoch 8/10\n",
            "27/27 [==============================] - 0s 18ms/step - loss: 1.1363 - accuracy: 0.5799 - val_loss: 1.1233 - val_accuracy: 0.6759\n",
            "Epoch 9/10\n",
            "27/27 [==============================] - 1s 20ms/step - loss: 0.8829 - accuracy: 0.6914 - val_loss: 1.1682 - val_accuracy: 0.7034\n",
            "Epoch 10/10\n",
            "27/27 [==============================] - 1s 19ms/step - loss: 0.8225 - accuracy: 0.7361 - val_loss: 0.8995 - val_accuracy: 0.7517\n"
          ]
        }
      ],
      "source": [
        "history = model.fit(train_X,train_Y, epochs=10, batch_size=10, validation_data = (val_X, val_Y),  verbose=1)"
      ]
    },
    {
      "cell_type": "markdown",
      "id": "2820498f",
      "metadata": {
        "id": "2820498f"
      },
      "source": [
        "### Training Accuracy vs Validation Accuracy Graph"
      ]
    },
    {
      "cell_type": "code",
      "execution_count": null,
      "id": "77cbc128",
      "metadata": {
        "id": "77cbc128",
        "outputId": "3752b9bc-e7cb-4abe-bc69-4cc7beade4e8"
      },
      "outputs": [
        {
          "data": {
            "image/png": "[encoded data removed]",
            "text/plain": [
              "<Figure size 432x288 with 1 Axes>"
            ]
          },
          "metadata": {
            "needs_background": "light"
          },
          "output_type": "display_data"
        }
      ],
      "source": [
        "plt.plot(history.history['accuracy'])\n",
        "plt.plot(history.history['val_accuracy'])\n",
        "plt.title('Training Accuracy vs Validation Accuracy')\n",
        "plt.ylabel('Accuracy')\n",
        "plt.xlabel('Epoch')\n",
        "plt.legend(['Train', 'Validation'], loc='upper left')\n",
        "plt.show()"
      ]
    },
    {
      "cell_type": "markdown",
      "id": "aaf6f686",
      "metadata": {
        "id": "aaf6f686"
      },
      "source": [
        "#### Training Loss vs Validation Loss Graph"
      ]
    },
    {
      "cell_type": "code",
      "execution_count": null,
      "id": "a023c633",
      "metadata": {
        "scrolled": true,
        "id": "a023c633",
        "outputId": "e64ca4d5-a636-47a0-ae5e-68d1383ab430"
      },
      "outputs": [
        {
          "data": {
            "image/png": "[encoded data removed]",
            "text/plain": [
              "<Figure size 432x288 with 1 Axes>"
            ]
          },
          "metadata": {
            "needs_background": "light"
          },
          "output_type": "display_data"
        }
      ],
      "source": [
        "plt.plot(history.history['loss'])\n",
        "plt.plot(history.history['val_loss'])\n",
        "plt.title('Training Loss vs Validation Loss')\n",
        "plt.ylabel('Loss')\n",
        "plt.xlabel('Epoch')\n",
        "plt.legend(['Loss', 'Validation Loss'], loc='upper left')\n",
        "plt.show()"
      ]
    },
    {
      "cell_type": "markdown",
      "id": "3f49ad0b",
      "metadata": {
        "id": "3f49ad0b"
      },
      "source": [
        "# Test"
      ]
    },
    {
      "cell_type": "code",
      "execution_count": null,
      "id": "f0149279",
      "metadata": {
        "id": "f0149279"
      },
      "outputs": [],
      "source": [
        "model.save(r'model.h5')"
      ]
    },
    {
      "cell_type": "code",
      "execution_count": null,
      "id": "a5d23495",
      "metadata": {
        "id": "a5d23495"
      },
      "outputs": [],
      "source": [
        "from keras.models import load_model\n",
        "import cv2\n",
        "import numpy as np\n",
        "\n",
        "class_names = {0:'A',1:'B',2:'C',3:'D',4:'E',5:'F',6:'G',7:'H',8:'I',9:'J',10:'K',11:'L',12:'M',13:'N',14:'O',15:'P',16:'Q',17:'R',18:'S',19:'T',20:'U',21:'V',22:'W',23:'X', 24:'Y',25:'Z'}\n",
        "\n",
        "model = load_model('model.h5')\n",
        "\n",
        "model.compile(loss='categorical_crossentropy',\n",
        "              optimizer='adam',\n",
        "              metrics=['accuracy'])"
      ]
    },
    {
      "cell_type": "code",
      "execution_count": null,
      "id": "fe92b2a8",
      "metadata": {
        "id": "fe92b2a8",
        "outputId": "2857bd05-aded-4254-d556-6256471d8729"
      },
      "outputs": [
        {
          "name": "stdout",
          "output_type": "stream",
          "text": [
            "1/1 [==============================] - 0s 18ms/step\n",
            "[2]\n",
            "['C']\n"
          ]
        },
        {
          "data": {
            "image/png": "[encoded data removed]",
            "text/plain": [
              "<Figure size 432x288 with 1 Axes>"
            ]
          },
          "metadata": {
            "needs_background": "light"
          },
          "output_type": "display_data"
        }
      ],
      "source": [
        "img = cv2.imread('Fuzzy C-Means Clustering/Train/C/C7 (1).jpg')\n",
        "\n",
        "plt.imshow(img)\n",
        "\n",
        "img = cv2.resize(img,(28,28))\n",
        "img = img[:,:,0]\n",
        "img = np.reshape(img,[1,28,28,1])\n",
        "\n",
        "classes = np.argmax(model.predict(img), axis = -1)\n",
        "\n",
        "print(classes)\n",
        "\n",
        "names = [class_names[i] for i in classes]\n",
        "\n",
        "print(names)"
      ]
    }
  ],
  "metadata": {
    "kernelspec": {
      "display_name": "Python 3 (ipykernel)",
      "language": "python",
      "name": "python3"
    },
    "language_info": {
      "codemirror_mode": {
        "name": "ipython",
        "version": 3
      },
      "file_extension": ".py",
      "mimetype": "text/x-python",
      "name": "python",
      "nbconvert_exporter": "python",
      "pygments_lexer": "ipython3",
      "version": "3.9.7"
    },
    "colab": {
      "provenance": []
    }
  },
  "nbformat": 4,
  "nbformat_minor": 5
}